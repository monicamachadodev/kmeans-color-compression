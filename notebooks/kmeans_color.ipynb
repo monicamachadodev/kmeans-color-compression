{
 "cells": [
  {
   "cell_type": "markdown",
   "id": "24dd7251-d6e4-46bb-b129-3b1a5ddbbd7d",
   "metadata": {},
   "source": [
    "## Usando K-means para compactação de cores"
   ]
  },
  {
   "cell_type": "markdown",
   "id": "9fc1bb4f-8b67-41fa-b337-fb4634b96688",
   "metadata": {},
   "source": [
    "Observe que este notebook foi concebido como um exemplo demonstrativo de como o algoritmo K-means funciona. Seu foco está na teoria e nos resultados de sua aplicação, e não no código em si. \n",
    "Este laboratório irá:\n",
    "- Dar a você um exemplo prático do K-means em dados não sintéticos\n",
    "- Reforçar sua compreensão da teoria subjacente do K-means demonstrando seu efeito quando aplicado a uma fotografia"
   ]
  },
  {
   "cell_type": "markdown",
   "id": "ad2d8c04-dd99-45e8-af3a-febc455a749a",
   "metadata": {},
   "source": [
    "Objetivo da modelagem\n",
    "Usaremos o K-means para agrupar os pixels de uma fotografia de algumas tulipas com base em seus valores de cor codificados. Exploraremos como diferentes valores de k afetam o agrupamento dos pixels e, portanto, a aparência da fotografia. Também examinaremos o que está acontecendo “nos bastidores” durante a execução do algoritmo."
   ]
  },
  {
   "cell_type": "markdown",
   "id": "bb28d768-d949-44a3-abee-6a14a6b8e2cc",
   "metadata": {},
   "source": [
    "Declarações de importação\n",
    "Usaremos o numpy e o pandas para operações e o Plotly para visualização em 3D. Um destaque especial é o Kmeans, que é a implementação do algoritmo K-means pelo scikit-learn."
   ]
  },
  {
   "cell_type": "code",
   "execution_count": null,
   "id": "c895a721-a306-4c0b-98f4-f54482845e0a",
   "metadata": {},
   "outputs": [],
   "source": [
    "import numpy as np\n",
    "import pandas as pd\n",
    "\n",
    "%pylab inline\n",
    "import plotly.graph_objects as go\n",
    "\n",
    "from sklearn.cluster import KMeans"
   ]
  },
  {
   "cell_type": "markdown",
   "id": "3cdb2381-fe72-4058-971d-f57964755fa2",
   "metadata": {},
   "source": [
    "Leitura de dados\n",
    "Os “dados”, neste caso, não são um dataframe do pandas. É uma fotografia, que converteremos em uma matriz numérica."
   ]
  },
  {
   "cell_type": "code",
   "execution_count": null,
   "id": "454de060-7e3a-41cf-8bc7-51c7f2fcafed",
   "metadata": {},
   "outputs": [],
   "source": [
    "# Read in a photo\n",
    "img = plt.imread('using_kmeans_for_color_compression_tulips_photo.jpg')"
   ]
  },
  {
   "cell_type": "code",
   "execution_count": null,
   "id": "8a118786-759f-492b-86d4-b98b91d175ff",
   "metadata": {},
   "outputs": [],
   "source": [
    "# Exibir a foto e seu formato\n",
    "print(img.shape)\n",
    "plt.imshow(img)\n",
    "plt.axis('off');"
   ]
  },
  {
   "cell_type": "markdown",
   "id": "f649342a-3060-471d-9d68-9384a377238a",
   "metadata": {},
   "source": [
    "Aqui temos uma fotografia de algumas tulipas. O formato da imagem é 320 x 240 x 3. Isso pode ser interpretado como informação de pixel. Cada ponto na sua tela é um pixel. Essa fotografia tem 320 pixels verticais e 240 pixels horizontais."
   ]
  },
  {
   "cell_type": "code",
   "execution_count": null,
   "id": "2bf7b4e4-32aa-4820-9f8c-9e1c944f1ea8",
   "metadata": {},
   "outputs": [],
   "source": [
    "# Remodelar a imagem de modo que cada linha represente um único pixel\n",
    "# definido por três valores: R, G, B\n",
    "img_flat = img.reshape(img.shape[0]*img.shape[1], 3)\n",
    "img_flat[:5, :]"
   ]
  },
  {
   "cell_type": "code",
   "execution_count": null,
   "id": "be2a1ad7-ab68-4f5a-829a-c62ed02d68f4",
   "metadata": {},
   "outputs": [],
   "source": [
    "img_flat.shape"
   ]
  },
  {
   "cell_type": "markdown",
   "id": "e5c85c15-14c7-4c7c-a519-c69e831da8bd",
   "metadata": {},
   "source": [
    "Agora temos uma matriz de 76.800 x 3. Cada linha representa os valores de cor de um único pixel. Como temos apenas 3 colunas, podemos visualizar esses dados em um espaço tridimensional. Vamos criar um dataframe do pandas para nos ajudar a entender e visualizar os dados."
   ]
  },
  {
   "cell_type": "code",
   "execution_count": null,
   "id": "19ed5dc4-6469-4575-b7ed-72d6066d1991",
   "metadata": {},
   "outputs": [],
   "source": [
    "# Criar um pandas df com r, g e b como colunas\n",
    "img_flat_df = pd.DataFrame(img_flat, columns = ['r', 'g', 'b'])\n",
    "img_flat_df.head()"
   ]
  },
  {
   "cell_type": "markdown",
   "id": "83925240-d1fe-475d-84bf-f9864d5b97dc",
   "metadata": {},
   "source": [
    "Observação: A saída da célula a seguir pode ser visualizada de duas maneiras: Você pode executar novamente essa célula ou converter manualmente o notebook para “Confiável”."
   ]
  },
  {
   "cell_type": "code",
   "execution_count": null,
   "id": "3b7ef614-9f25-42e6-b0a8-c34819041933",
   "metadata": {},
   "outputs": [],
   "source": [
    "# Crie um gráfico 3D em que cada pixel da imagem seja exibido em sua cor real\n",
    "trace = go.Scatter3d(x = img_flat_df.r,\n",
    "                     y = img_flat_df.g,\n",
    "                     z = img_flat_df.b,\n",
    "                     mode='markers',\n",
    "                     marker=dict(size=1,\n",
    "                                 color=['rgb({},{},{})'.format(r,g,b) for r,g,b \n",
    "                                        in zip(img_flat_df.r.values, \n",
    "                                               img_flat_df.g.values, \n",
    "                                               img_flat_df.b.values)],\n",
    "                                 opacity=0.5))\n",
    "\n",
    "data = [trace]\n",
    "\n",
    "layout = go.Layout(margin=dict(l=0,\n",
    "                               r=0,\n",
    "                               b=0,\n",
    "                               t=0),\n",
    "                               )\n",
    "\n",
    "fig = go.Figure(data=data, layout=layout)\n",
    "fig.update_layout(scene = dict(\n",
    "                    xaxis_title='R',\n",
    "                    yaxis_title='G',\n",
    "                    zaxis_title='B'),\n",
    "                  )\n",
    "fig.show()"
   ]
  },
  {
   "cell_type": "markdown",
   "id": "49b5d527-acad-4881-86e8-19b93d2b1710",
   "metadata": {},
   "source": [
    "Nesse gráfico, cada ponto representa uma cor/pixel que está em nossa imagem original de tulipas. Quanto mais intensa for a cor, mais pontos estarão concentrados nessa área. As cores mais representadas no gráfico são as cores mais abundantes na fotografia: principalmente vermelhos, verdes e amarelos. Você pode clicar e girar esse gráfico para examiná-lo de diferentes ângulos. Também é possível aumentar e diminuir o zoom.\n",
    "\n",
    "Podemos treinar um modelo K-means com esses dados. O algoritmo criará k clusters minimizando as distâncias quadradas de cada ponto até o centroide mais próximo.\n",
    "\n",
    "Vamos primeiro fazer um experimento. Construir um modelo K-means com apenas um único centroide (k = 1) e substituíssemos cada pixel da fotografia pelo valor RGB desse centroide? Qual seria a aparência da fotografia?"
   ]
  },
  {
   "cell_type": "markdown",
   "id": "b35e0fd2-e174-4a24-b22e-881bed1b81de",
   "metadata": {},
   "source": [
    "Agrupar os dados: k = 1"
   ]
  },
  {
   "cell_type": "code",
   "execution_count": null,
   "id": "38cef863-5947-4ecb-8604-e31d56f25f1b",
   "metadata": {},
   "outputs": [],
   "source": [
    "# Instanciar o modelo\n",
    "kmeans = KMeans(n_clusters=1, random_state=42).fit(img_flat)"
   ]
  },
  {
   "cell_type": "code",
   "execution_count": null,
   "id": "46574810-856c-4aa6-997c-2ace12341b7b",
   "metadata": {},
   "outputs": [],
   "source": [
    "# Copie o `img_flat` para que possamos modificá-lo\n",
    "img_flat1 = img_flat.copy()\n",
    "\n",
    "# Substitua cada linha da imagem original pelo centro do cluster mais próximo\n",
    "for i in np.unique(kmeans.labels_):\n",
    "    img_flat1[kmeans.labels_==i,:] = kmeans.cluster_centers_[i]\n",
    "\n",
    "# Remodelar os dados de volta para (640, 480, 3)\n",
    "img1 = img_flat1.reshape(img.shape)\n",
    "\n",
    "plt.imshow(img1)\n",
    "plt.axis('off');"
   ]
  },
  {
   "cell_type": "markdown",
   "id": "a7a45cde-93b5-47ed-a340-8bd26a5a834e",
   "metadata": {},
   "source": [
    "Então, o que aconteceu? Bem, vamos percorrer as etapas do K-means:\n",
    "\n",
    "Colocamos nosso centroide aleatoriamente no espaço de cores.\n",
    "Atribuímos cada ponto ao seu centroide mais próximo. Como havia apenas um centroide, todos os pontos foram atribuídos ao mesmo centroide e, portanto, ao mesmo cluster.\n",
    "Atualizamos a localização do centroide para a localização média de todos os seus pontos. Novamente, como há apenas um único centroide, ele foi atualizado para o local médio de cada ponto na imagem.\n",
    "Repita até o modelo convergir. Nesse caso, foi necessária apenas uma iteração para que o modelo convergisse.\n",
    "Em seguida, atualizamos os valores RGB de cada pixel para que fossem iguais aos do centroide. O resultado é a imagem de nossas tulipas quando cada pixel é substituído pela cor média. A cor média dessa foto era marrom - todas as cores estavam misturadas.\n",
    "\n",
    "Podemos verificar isso por nós mesmos calculando manualmente a média de cada coluna na matriz achatada. Isso nos dará o valor R médio, o valor G e o valor B."
   ]
  },
  {
   "cell_type": "code",
   "execution_count": null,
   "id": "5ca53aff-fe18-4988-8891-2a761daf284e",
   "metadata": {},
   "outputs": [],
   "source": [
    "# Calcular a média de cada coluna na matriz achatada\n",
    "column_means = img_flat.mean(axis=0)\n",
    "\n",
    "print('column means: ', column_means)"
   ]
  },
  {
   "cell_type": "code",
   "execution_count": null,
   "id": "34bc3c9e-27c5-48d3-95b2-f95f90df2838",
   "metadata": {},
   "outputs": [],
   "source": [
    "print('cluster centers: ', kmeans.cluster_centers_)"
   ]
  },
  {
   "cell_type": "markdown",
   "id": "e6bac2ba-69ee-4875-9b8b-5fa39a780791",
   "metadata": {},
   "source": [
    "Eles são iguais! Agora, vamos voltar à renderização 3D de nossos dados, só que desta vez adicionaremos o centroide."
   ]
  },
  {
   "cell_type": "code",
   "execution_count": null,
   "id": "eae21b1f-0f40-45cc-a1e1-b82f50086af0",
   "metadata": {},
   "outputs": [],
   "source": [
    "# Crie um gráfico 3-D em que cada pixel da imagem seja exibido em sua cor real\n",
    "trace = go.Scatter3d(x = img_flat_df.r,\n",
    "                     y = img_flat_df.g,\n",
    "                     z = img_flat_df.b,\n",
    "                     mode='markers',\n",
    "                     marker=dict(size=1,\n",
    "                                 color=['rgb({},{},{})'.format(r,g,b) for \n",
    "                                        r,g,b in zip(img_flat_df.r.values, \n",
    "                                                     img_flat_df.g.values, \n",
    "                                                     img_flat_df.b.values)],\n",
    "                                 opacity=0.5))\n",
    "\n",
    "data = [trace]\n",
    "\n",
    "layout = go.Layout(margin=dict(l=0,\n",
    "                               r=0,\n",
    "                               b=0,\n",
    "                               t=0))\n",
    "\n",
    "fig = go.Figure(data=data, layout=layout)\n",
    "\n",
    "\n",
    "# Adicionar centroide ao gráfico\n",
    "centroid = kmeans.cluster_centers_[0].tolist()\n",
    "\n",
    "fig.add_trace(\n",
    "    go.Scatter3d(x = [centroid[0]],\n",
    "                 y = [centroid[1]],\n",
    "                 z = [centroid[2]],\n",
    "                 mode='markers',\n",
    "                 marker=dict(size=7,\n",
    "                             color=['rgb(125.79706706,78.8178776,42.58090169)'],\n",
    "                             opacity=1))\n",
    ")\n",
    "fig.update_layout(scene = dict(\n",
    "                    xaxis_title='R',\n",
    "                    yaxis_title='G',\n",
    "                    zaxis_title='B'),\n",
    "                  )\n",
    "fig.show()"
   ]
  },
  {
   "cell_type": "markdown",
   "id": "81ba51f2-6238-4942-aeae-5c32faed1f5f",
   "metadata": {},
   "source": [
    "Podemos ver o centroide como um grande círculo no meio do espaço de cores. (Se não conseguir, clique na imagem e gire/faça zoom.) Observe que esse é o “centro de gravidade” de todos os pontos no gráfico.\n",
    "\n",
    "Agora vamos tentar outra coisa. Vamos reajustar um modelo K-means aos dados, desta vez usando k = 3. Reserve um momento para considerar o que você pode esperar como resultado disso. Percorra as etapas do que o modelo está fazendo, como fizemos acima. Que cores você provavelmente verá?"
   ]
  },
  {
   "cell_type": "markdown",
   "id": "b42e3553-eba3-4e01-a4cd-52b2b8c140f7",
   "metadata": {},
   "source": [
    "Agrupar os dados: k = 3"
   ]
  },
  {
   "cell_type": "code",
   "execution_count": null,
   "id": "d3db8e0c-5c5a-4e70-9b01-8786f7630476",
   "metadata": {},
   "outputs": [],
   "source": [
    "# Instanciar o modelo k-means para 3 clusters\n",
    "kmeans3 = KMeans(n_clusters=3, random_state=42).fit(img_flat)\n",
    "\n",
    "# Verifique os valores exclusivos do que é retornado pelo atributo .labels_  \n",
    "np.unique(kmeans3.labels_)"
   ]
  },
  {
   "cell_type": "markdown",
   "id": "85219cdd-1a07-407a-bbc4-dc0867db5a3a",
   "metadata": {},
   "source": [
    "O atributo .cluster_centers_ retorna uma matriz em que cada elemento representa as coordenadas de um centroide (ou seja, seus valores RGB). Usaremos essas coordenadas como fizemos anteriormente para gerar as cores representadas por nossos centroides."
   ]
  },
  {
   "cell_type": "code",
   "execution_count": null,
   "id": "95890e0b-84ba-4c80-8fb2-4241e3c23445",
   "metadata": {},
   "outputs": [],
   "source": [
    "# Atribuir coordenadas do centroide à variável `centers`.\n",
    "centers = kmeans3.cluster_centers_\n",
    "centers"
   ]
  },
  {
   "cell_type": "markdown",
   "id": "7c8cff1c-e225-46b3-91ec-be307b266ce8",
   "metadata": {},
   "source": [
    "Agora, criaremos uma função auxiliar para exibir facilmente valores RGB como amostras de cores e usá-la para verificar as cores dos centroides do modelo."
   ]
  },
  {
   "cell_type": "code",
   "execution_count": null,
   "id": "32c33a25-f01c-4c19-8b32-73ffb3f9e653",
   "metadata": {},
   "outputs": [],
   "source": [
    "# Função auxiliar que cria amostras de cores\n",
    "def show_swatch(RGB_value):\n",
    "    '''\n",
    "    Takes in an RGB value and outputs a color swatch\n",
    "    '''\n",
    "    R, G, B = RGB_value\n",
    "    rgb = [[np.array([R,G,B]).astype('uint8')]]\n",
    "    plt.figure()\n",
    "    plt.imshow(rgb)\n",
    "    plt.axis('off');"
   ]
  },
  {
   "cell_type": "code",
   "execution_count": null,
   "id": "3294644b-4dac-4da4-bef1-4133dbe80e74",
   "metadata": {},
   "outputs": [],
   "source": [
    "# Exibir as amostras de cores\n",
    "for pixel in centers:\n",
    "    show_swatch(pixel)"
   ]
  },
  {
   "cell_type": "markdown",
   "id": "542a9ab9-59e1-49e7-9434-afe3d6609170",
   "metadata": {},
   "source": [
    "Esperamos que você tenha levantado a hipótese de que veríamos cores semelhantes como resultado de um modelo de 3 clusters. Se você examinar a imagem original das tulipas, verá que geralmente há três cores dominantes: vermelhos, verdes e dourados/amarelos, o que é muito próximo do que o modelo retornou.\n",
    "\n",
    "Da mesma forma que antes, vamos substituir cada pixel da imagem original pelo valor RGB do centroide ao qual ele foi atribuído."
   ]
  },
  {
   "cell_type": "code",
   "execution_count": null,
   "id": "40581992-3202-40b1-bf76-f8242ea0b4aa",
   "metadata": {},
   "outputs": [],
   "source": [
    "# Função auxiliar para exibir nossa fotografia quando agrupada em k clusters\n",
    "def cluster_image(k, img=img):\n",
    "\n",
    "    img_flat = img.reshape(img.shape[0]*img.shape[1], 3)\n",
    "    kmeans = KMeans(n_clusters = k, random_state = 42).fit(img_flat)\n",
    "    new_img = img_flat.copy()\n",
    "  \n",
    "    for i in np.unique(kmeans.labels_):\n",
    "        new_img[kmeans.labels_ == i, :] = kmeans.cluster_centers_[i]\n",
    "  \n",
    "    new_img = new_img.reshape(img.shape)\n",
    "\n",
    "    return plt.imshow(new_img), plt.axis('off');"
   ]
  },
  {
   "cell_type": "code",
   "execution_count": null,
   "id": "538312f8-ee04-499f-a2b6-993669b8058b",
   "metadata": {},
   "outputs": [],
   "source": [
    "# Gerar imagem quando k=3\n",
    "cluster_image(3);"
   ]
  },
  {
   "cell_type": "markdown",
   "id": "9a228dd2-2f1b-4463-a411-d235e04afeca",
   "metadata": {},
   "source": [
    "Agora temos uma foto com apenas três cores. Os valores RGB de cada pixel correspondem aos valores de seu centroide mais próximo.\n",
    "\n",
    "Podemos retornar mais uma vez ao nosso espaço de cores 3-D. Desta vez, vamos colorir novamente cada ponto no espaço de cores para corresponder à cor de seu centroide. Isso nos permitirá ver como o algoritmo K-means agrupou nossos dados espacialmente.\n",
    "\n",
    "Novamente, não se preocupe tanto com o código. Sinta-se à vontade para pular para o gráfico."
   ]
  },
  {
   "cell_type": "code",
   "execution_count": null,
   "id": "07cbd1a6-7549-4843-b15f-f098a735d187",
   "metadata": {},
   "outputs": [],
   "source": [
    "# Apenas para ter uma ideia de como são as estruturas de dados\n",
    "\n",
    "print(kmeans3.labels_.shape)\n",
    "print(kmeans3.labels_)\n",
    "print(np.unique(kmeans3.labels_))\n",
    "print(kmeans3.cluster_centers_)"
   ]
  },
  {
   "cell_type": "code",
   "execution_count": null,
   "id": "f47d12a8-f656-4bb5-ab11-d7f1cfef8697",
   "metadata": {},
   "outputs": [],
   "source": [
    "# Crie uma nova coluna no df que indique o número do cluster de cada linha  \n",
    "# (conforme atribuído pelo Kmeans para k=3)\n",
    "img_flat_df['cluster'] = kmeans3.labels_\n",
    "img_flat_df.head()"
   ]
  },
  {
   "cell_type": "code",
   "execution_count": null,
   "id": "45653023-e9ee-4f62-bdaa-d35404518c30",
   "metadata": {},
   "outputs": [],
   "source": [
    "# Criar um dicionário auxiliar para mapear valores de cores RGB para cada observação em df\n",
    "series_conversion = {\n",
    "    0: 'rgb' + str(tuple(map(int, kmeans3.cluster_centers_[0]))),\n",
    "    1: 'rgb' + str(tuple(map(int, kmeans3.cluster_centers_[1]))),\n",
    "    2: 'rgb' + str(tuple(map(int, kmeans3.cluster_centers_[2]))),\n",
    "}"
   ]
  },
  {
   "cell_type": "code",
   "execution_count": null,
   "id": "d54a7c48-6ac4-4ff6-807b-a004b8d381d2",
   "metadata": {},
   "outputs": [],
   "source": [
    "# Substitua os números de cluster na coluna 'cluster' por valores RGB formatados\n",
    "# (preparado para a plotagem)\n",
    "img_flat_df['cluster'] = img_flat_df['cluster'].map(series_conversion)\n",
    "img_flat_df.head()"
   ]
  },
  {
   "cell_type": "code",
   "execution_count": null,
   "id": "1a00607a-7700-4be7-96f1-b228b45727ed",
   "metadata": {},
   "outputs": [],
   "source": [
    "# Replotar os dados, agora mostrando a qual cluster (ou seja, cor) eles foram atribuídos pelo K-means quando k=3\n",
    "\n",
    "trace = go.Scatter3d(x = img_flat_df.r,\n",
    "                     y = img_flat_df.g,\n",
    "                     z = img_flat_df.b,\n",
    "                     mode='markers',\n",
    "                     marker=dict(size=1,\n",
    "                                 color=img_flat_df.cluster,\n",
    "                                 opacity=1))\n",
    "\n",
    "data = trace\n",
    "\n",
    "layout = go.Layout(margin=dict(l=0,\n",
    "                               r=0,\n",
    "                               b=0,\n",
    "                               t=0))\n",
    "\n",
    "fig = go.Figure(data=data, layout=layout)\n",
    "fig.show()"
   ]
  },
  {
   "cell_type": "markdown",
   "id": "0622aef4-b2bd-46fe-9fa2-a4b00001ff59",
   "metadata": {},
   "source": [
    "Agrupar os dados: k = 2-10"
   ]
  },
  {
   "cell_type": "markdown",
   "id": "1bda530f-0b6a-4671-9d5c-f97efc784b32",
   "metadata": {},
   "source": [
    "Você pode estar pensando que teria agrupado os dados de forma diferente com base na distribuição de pontos que viu no primeiro gráfico 3D. Por exemplo, por que há uma linha nítida que separa o vermelho do verde, quando não parece haver nenhum espaço vazio nos dados?\n",
    "\n",
    "Você não está incorreto. Embora não exista um agrupamento “errado”, algumas formas podem ser definitivamente melhores do que outras.\n",
    "\n",
    "Você notará na renderização original em 3D que há faixas longas - não bolas redondas - de dados agrupados. O K-means funciona melhor quando os clusters são mais circulares, pois tenta minimizar a distância do ponto ao centroide. Pode valer a pena tentar um algoritmo de agrupamento diferente se você quiser agrupar uma faixa longa, estreita e contínua de dados\n",
    "\n",
    "No entanto, o K-means comprime com sucesso as cores dessa fotografia. Esse processo pode ser aplicado para qualquer valor de k. Aqui está o resultado de cada foto para k = 2-10."
   ]
  },
  {
   "cell_type": "code",
   "execution_count": null,
   "id": "a512c7af-9632-4c1d-a57f-7bc8fb8a57e2",
   "metadata": {},
   "outputs": [],
   "source": [
    "# Função auxiliar para plotar a grade da imagem\n",
    "def cluster_image_grid(k, ax, img=img):\n",
    " \n",
    "    img_flat = img.reshape(img.shape[0]*img.shape[1], 3)\n",
    "    kmeans = KMeans(n_clusters=k, random_state=42).fit(img_flat)\n",
    "    new_img = img_flat.copy()\n",
    "\n",
    "    for i in np.unique(kmeans.labels_):\n",
    "        new_img[kmeans.labels_==i, :] = kmeans.cluster_centers_[i]\n",
    "\n",
    "    new_img = new_img.reshape(img.shape)\n",
    "    ax.imshow(new_img)\n",
    "    ax.axis('off')\n",
    "\n",
    "fig, axs = plt.subplots(3, 3)\n",
    "fig = matplotlib.pyplot.gcf()\n",
    "fig.set_size_inches(9, 12)\n",
    "axs = axs.flatten()\n",
    "k_values = np.arange(2, 11)\n",
    "for i, k in enumerate(k_values):\n",
    "    cluster_image_grid(k, axs[i], img=img)\n",
    "    axs[i].title.set_text('k=' + str(k))"
   ]
  },
  {
   "cell_type": "markdown",
   "id": "439fa1f6-6f06-46f5-aff8-3eaecc573479",
   "metadata": {},
   "source": [
    "Observe que fica cada vez mais difícil ver a diferença entre as imagens cada vez que uma cor é adicionada. Esse é um exemplo visual de algo que acontece com todos os modelos de agrupamento, mesmo que os dados não sejam uma imagem que você possa ver. À medida que você agrupa os dados em mais e mais clusters, os clusters adicionais além de um determinado ponto contribuem cada vez menos para a compreensão dos dados."
   ]
  }
 ],
 "metadata": {
  "kernelspec": {
   "display_name": "Python 3 (ipykernel)",
   "language": "python",
   "name": "python3"
  },
  "language_info": {
   "codemirror_mode": {
    "name": "ipython",
    "version": 3
   },
   "file_extension": ".py",
   "mimetype": "text/x-python",
   "name": "python",
   "nbconvert_exporter": "python",
   "pygments_lexer": "ipython3",
   "version": "3.12.4"
  }
 },
 "nbformat": 4,
 "nbformat_minor": 5
}
